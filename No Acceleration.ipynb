{
 "cells": [
  {
   "cell_type": "code",
   "execution_count": 1,
   "id": "6a82ee06",
   "metadata": {
    "ExecuteTime": {
     "end_time": "2022-01-20T06:11:50.264566Z",
     "start_time": "2022-01-20T06:11:49.742061Z"
    },
    "scrolled": false
   },
   "outputs": [],
   "source": [
    "import warnings\n",
    "warnings.filterwarnings('ignore')\n",
    "import pandas as pd\n",
    "%matplotlib inline\n",
    "import numpy as np\n",
    "from tqdm import tqdm\n",
    "from emulator.apply_factor import get_factors\n",
    "\n",
    "from datetime import datetime\n",
    "from datetime import *\n",
    "from IPython.display import clear_output\n",
    "import time"
   ]
  },
  {
   "cell_type": "code",
   "execution_count": 2,
   "id": "bdcbb4de",
   "metadata": {
    "ExecuteTime": {
     "end_time": "2022-01-20T06:11:50.279629Z",
     "start_time": "2022-01-20T06:11:50.266602Z"
    },
    "code_folding": [
     0
    ],
    "scrolled": true
   },
   "outputs": [],
   "source": [
    "def data_processing(data_df, rolling):\n",
    "    Index = data_df.index\n",
    "    High = data_df.high.values.astype('float64')\n",
    "    Low = data_df.low.values.astype('float64')\n",
    "    Close = data_df.close.values.astype('float64')\n",
    "    Open = data_df.open.values.astype('float64')\n",
    "    Volume = data_df.volume.values.astype('float64')\n",
    "    quotes = get_factors(Index, Open, Close, High, Low, Volume, rolling=rolling, drop=True)\n",
    "    return quotes"
   ]
  },
  {
   "cell_type": "markdown",
   "id": "adabe17a",
   "metadata": {},
   "source": [
    "# Import Data"
   ]
  },
  {
   "cell_type": "code",
   "execution_count": 3,
   "id": "6793bcf7",
   "metadata": {
    "ExecuteTime": {
     "end_time": "2022-01-20T06:11:50.629870Z",
     "start_time": "2022-01-20T06:11:50.297654Z"
    },
    "scrolled": false
   },
   "outputs": [
    {
     "data": {
      "text/plain": [
       "((168625, 6),\n",
       " Index(['datadate', 'open', 'high', 'low', 'close', 'volume'], dtype='object'),\n",
       "              datadate    open    high     low   close  volume\n",
       " 0 2016-01-04 21:00:00  1778.0  1782.0  1777.0  1778.0   46531\n",
       " 1 2016-01-04 21:03:00  1778.0  1783.0  1778.0  1782.0   29321\n",
       " 2 2016-01-04 21:06:00  1782.0  1784.0  1781.0  1783.0   17180\n",
       " 3 2016-01-04 21:09:00  1783.0  1783.0  1775.0  1775.0   34118\n",
       " 4 2016-01-04 21:12:00  1775.0  1777.0  1775.0  1775.0   32035,\n",
       " False,\n",
       " datadate    datetime64[ns]\n",
       " open               float64\n",
       " high               float64\n",
       " low                float64\n",
       " close              float64\n",
       " volume               int64\n",
       " dtype: object)"
      ]
     },
     "execution_count": 3,
     "metadata": {},
     "output_type": "execute_result"
    }
   ],
   "source": [
    "min_data_df = pd.read_csv('KQ.m@SHFE.rb_3min.csv').drop(columns=['datetime_nano','KQ.m@SHFE.rb.open_oi','KQ.m@SHFE.rb.close_oi'])\n",
    "min_data_df.columns = ['datadate','open','high','low','close','volume']\n",
    "min_data_df.datadate = pd.to_datetime(min_data_df.datadate)\n",
    "\n",
    "min_data_df.shape, min_data_df.columns, min_data_df.head(), min_data_df.isnull().values.any(), min_data_df.dtypes"
   ]
  },
  {
   "cell_type": "markdown",
   "id": "fb72f8ed",
   "metadata": {},
   "source": [
    "# Split Training Data"
   ]
  },
  {
   "cell_type": "code",
   "execution_count": 4,
   "id": "361802b9",
   "metadata": {
    "ExecuteTime": {
     "end_time": "2022-01-20T06:11:50.738107Z",
     "start_time": "2022-01-20T06:11:50.713029Z"
    },
    "scrolled": false
   },
   "outputs": [
    {
     "data": {
      "text/plain": [
       "(             datadate    open    high     low   close  volume\n",
       " 0 2019-02-01 09:00:00  3731.0  3732.0  3720.0  3729.0   33599\n",
       " 1 2019-02-01 09:03:00  3729.0  3732.0  3723.0  3730.0   13187\n",
       " 2 2019-02-01 09:06:00  3730.0  3732.0  3726.0  3728.0   10914\n",
       " 3 2019-02-01 09:09:00  3728.0  3735.0  3724.0  3729.0   21272\n",
       " 4 2019-02-01 09:12:00  3729.0  3732.0  3728.0  3732.0    9194,\n",
       "                 datadate    open    high     low   close  volume\n",
       " 8730 2019-05-31 22:45:00  3750.0  3754.0  3749.0  3750.0    8993\n",
       " 8731 2019-05-31 22:48:00  3750.0  3755.0  3750.0  3755.0    6660\n",
       " 8732 2019-05-31 22:51:00  3755.0  3763.0  3755.0  3755.0   31856\n",
       " 8733 2019-05-31 22:54:00  3755.0  3758.0  3752.0  3753.0   11229\n",
       " 8734 2019-05-31 22:57:00  3753.0  3756.0  3748.0  3754.0   20754,\n",
       " (8735, 6))"
      ]
     },
     "execution_count": 4,
     "metadata": {},
     "output_type": "execute_result"
    }
   ],
   "source": [
    "begin_date = '2019-02-01'\n",
    "end_date = '2019-06-01'\n",
    "min_train_data = min_data_df[(min_data_df.datadate>=begin_date) & (min_data_df.datadate<=end_date)]\n",
    "min_train_data = min_train_data.reset_index(drop=True)\n",
    "\n",
    "min_train_data.head(5), min_train_data.tail(5), min_train_data.shape"
   ]
  },
  {
   "cell_type": "markdown",
   "id": "76cfa92d",
   "metadata": {},
   "source": [
    "## Transform Data Type to Meet Ta-lib's Requirement"
   ]
  },
  {
   "cell_type": "code",
   "execution_count": 5,
   "id": "a839327e",
   "metadata": {
    "ExecuteTime": {
     "end_time": "2022-01-20T06:11:51.544466Z",
     "start_time": "2022-01-20T06:11:51.539463Z"
    }
   },
   "outputs": [],
   "source": [
    "min_train_data['open'] = min_train_data['open'].values.astype('float64')\n",
    "min_train_data['high'] = min_train_data['high'].values.astype('float64')\n",
    "min_train_data['low']  = min_train_data['low'].values.astype('float64')\n",
    "min_train_data['close'] = min_train_data['close'].values.astype('float64')\n",
    "min_train_data['volume'] = min_train_data['volume'].values.astype('float64')\n",
    "rolling = 60\n",
    "background = rolling*3\n",
    "window_size = rolling"
   ]
  },
  {
   "cell_type": "code",
   "execution_count": 6,
   "id": "fd6aa3f5",
   "metadata": {
    "ExecuteTime": {
     "end_time": "2022-01-20T06:11:52.188061Z",
     "start_time": "2022-01-20T06:11:52.130983Z"
    }
   },
   "outputs": [
    {
     "data": {
      "text/plain": [
       "122"
      ]
     },
     "execution_count": 6,
     "metadata": {},
     "output_type": "execute_result"
    }
   ],
   "source": [
    "tmp_processed_df= data_processing(min_train_data, rolling)\n",
    "drop = min_train_data.shape[0] - tmp_processed_df.shape[0]\n",
    "\n",
    "drop"
   ]
  },
  {
   "cell_type": "code",
   "execution_count": 7,
   "id": "41fdb026",
   "metadata": {
    "ExecuteTime": {
     "end_time": "2022-01-20T06:14:17.563123Z",
     "start_time": "2022-01-20T06:11:54.673449Z"
    },
    "code_folding": []
   },
   "outputs": [
    {
     "name": "stderr",
     "output_type": "stream",
     "text": [
      "100%|██████████████████████████████████████████████████████████████████████████████| 8373/8373 [02:20<00:00, 59.43it/s]\n",
      "100%|██████████████████████████████████████████████████████████████████████████| 8373/8373 [00:00<00:00, 151071.81it/s]\n"
     ]
    },
    {
     "data": {
      "text/plain": [
       "(8373, 60, 29)"
      ]
     },
     "execution_count": 7,
     "metadata": {},
     "output_type": "execute_result"
    }
   ],
   "source": [
    "min_processed_list = []\n",
    "for i in tqdm(range(len(min_train_data)-background-drop-window_size)):\n",
    "    strat = i\n",
    "    end = i+window_size+drop+background\n",
    "    quotes = min_train_data.iloc[strat:end].copy()\n",
    "    quotes = get_factors(quotes.index,quotes.open.values,quotes.close.values,quotes.high.values,quotes.low.values,\\\n",
    "                                                  quotes.volume.values, rolling=rolling, drop=False)\n",
    "    min_processed_list.append(quotes.iloc[-window_size:])\n",
    "\n",
    "min_processed_array = np.asarray(min_processed_list)\n",
    "for i in tqdm(range(min_processed_array.shape[0])):\n",
    "    if True in np.isnan(min_processed_array[i]):\n",
    "        print(i)  \n",
    "    else:\n",
    "        pass\n",
    "\n",
    "min_processed_array.shape"
   ]
  }
 ],
 "metadata": {
  "kernelspec": {
   "display_name": "Python 3 (ipykernel)",
   "language": "python",
   "name": "python3"
  },
  "language_info": {
   "codemirror_mode": {
    "name": "ipython",
    "version": 3
   },
   "file_extension": ".py",
   "mimetype": "text/x-python",
   "name": "python",
   "nbconvert_exporter": "python",
   "pygments_lexer": "ipython3",
   "version": "3.9.7"
  },
  "latex_envs": {
   "LaTeX_envs_menu_present": true,
   "autoclose": false,
   "autocomplete": true,
   "bibliofile": "biblio.bib",
   "cite_by": "apalike",
   "current_citInitial": 1,
   "eqLabelWithNumbers": true,
   "eqNumInitial": 1,
   "hotkeys": {
    "equation": "Ctrl-E",
    "itemize": "Ctrl-I"
   },
   "labels_anchors": false,
   "latex_user_defs": false,
   "report_style_numbering": false,
   "user_envs_cfg": false
  },
  "toc": {
   "base_numbering": 1,
   "nav_menu": {},
   "number_sections": true,
   "sideBar": true,
   "skip_h1_title": false,
   "title_cell": "Table of Contents",
   "title_sidebar": "Contents",
   "toc_cell": false,
   "toc_position": {},
   "toc_section_display": true,
   "toc_window_display": false
  },
  "varInspector": {
   "cols": {
    "lenName": 16,
    "lenType": 16,
    "lenVar": 40
   },
   "kernels_config": {
    "python": {
     "delete_cmd_postfix": "",
     "delete_cmd_prefix": "del ",
     "library": "var_list.py",
     "varRefreshCmd": "print(var_dic_list())"
    },
    "r": {
     "delete_cmd_postfix": ") ",
     "delete_cmd_prefix": "rm(",
     "library": "var_list.r",
     "varRefreshCmd": "cat(var_dic_list()) "
    }
   },
   "types_to_exclude": [
    "module",
    "function",
    "builtin_function_or_method",
    "instance",
    "_Feature"
   ],
   "window_display": false
  }
 },
 "nbformat": 4,
 "nbformat_minor": 5
}
